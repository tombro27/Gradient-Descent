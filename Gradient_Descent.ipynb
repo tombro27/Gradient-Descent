{
  "nbformat": 4,
  "nbformat_minor": 0,
  "metadata": {
    "colab": {
      "name": "Gradient Descent.ipynb",
      "provenance": [],
      "authorship_tag": "ABX9TyMBOKZ9WVk1Y+FCUeRHvbPw",
      "include_colab_link": true
    },
    "kernelspec": {
      "name": "python3",
      "display_name": "Python 3"
    },
    "language_info": {
      "name": "python"
    }
  },
  "cells": [
    {
      "cell_type": "markdown",
      "metadata": {
        "id": "view-in-github",
        "colab_type": "text"
      },
      "source": [
        "<a href=\"https://colab.research.google.com/github/tombro27/Gradient-Descent/blob/main/Gradient_Descent.ipynb\" target=\"_parent\"><img src=\"https://colab.research.google.com/assets/colab-badge.svg\" alt=\"Open In Colab\"/></a>"
      ]
    },
    {
      "cell_type": "code",
      "metadata": {
        "id": "MdUGveLnWfrp"
      },
      "source": [
        "import numpy as np"
      ],
      "execution_count": null,
      "outputs": []
    },
    {
      "cell_type": "markdown",
      "metadata": {
        "id": "sl1uVrd-i0fH"
      },
      "source": [
        "Generating Data\n"
      ]
    },
    {
      "cell_type": "code",
      "metadata": {
        "id": "3-YEdT2iWirk"
      },
      "source": [
        "X= 5*np.random.rand(1000,1)\n",
        "y= 8 + 7*X + np.random.rand(1000,1)"
      ],
      "execution_count": null,
      "outputs": []
    },
    {
      "cell_type": "markdown",
      "metadata": {
        "id": "yRH_FH09iZ0D"
      },
      "source": [
        "The Normal Equation\n"
      ]
    },
    {
      "cell_type": "code",
      "metadata": {
        "id": "fhe4j4ldWsz3"
      },
      "source": [
        "X_ =np.c_[np.ones((1000,1)),X]\n",
        "params=np.linalg.inv(X_.T.dot(X_)).dot(X_.T).dot(y)"
      ],
      "execution_count": null,
      "outputs": []
    },
    {
      "cell_type": "code",
      "metadata": {
        "colab": {
          "base_uri": "https://localhost:8080/"
        },
        "id": "bm4iWz3HXj42",
        "outputId": "7c5f6a34-baa7-4374-ed6a-40d06af4c2e3"
      },
      "source": [
        "params"
      ],
      "execution_count": null,
      "outputs": [
        {
          "output_type": "execute_result",
          "data": {
            "text/plain": [
              "array([[8.5226705 ],\n",
              "       [6.99172065]])"
            ]
          },
          "metadata": {
            "tags": []
          },
          "execution_count": 4
        }
      ]
    },
    {
      "cell_type": "markdown",
      "metadata": {
        "id": "0JXzPYJVZGmw"
      },
      "source": [
        "SVD"
      ]
    },
    {
      "cell_type": "code",
      "metadata": {
        "id": "ezw3AVqXXops"
      },
      "source": [
        "params_svd = np.linalg.pinv(X_).dot(y)"
      ],
      "execution_count": null,
      "outputs": []
    },
    {
      "cell_type": "code",
      "metadata": {
        "colab": {
          "base_uri": "https://localhost:8080/"
        },
        "id": "uiA8zDYiYbsb",
        "outputId": "666e7fb6-19e5-46b7-96f4-b19d229ab5d5"
      },
      "source": [
        "params_svd"
      ],
      "execution_count": null,
      "outputs": [
        {
          "output_type": "execute_result",
          "data": {
            "text/plain": [
              "array([[8.5226705 ],\n",
              "       [6.99172065]])"
            ]
          },
          "metadata": {
            "tags": []
          },
          "execution_count": 6
        }
      ]
    },
    {
      "cell_type": "markdown",
      "metadata": {
        "id": "XmmSCdxiZKa-"
      },
      "source": [
        "Batch GD\n"
      ]
    },
    {
      "cell_type": "code",
      "metadata": {
        "id": "0magDFmwYdiJ"
      },
      "source": [
        "eta = 0.1\n",
        "iters = 10000\n",
        "m=1000\n",
        "W=np.random.rand(2,1)\n",
        "for i in range(iters):\n",
        "  gradient = 2/m * X_.T.dot(X_.dot(W)-y)\n",
        "  W-=eta*gradient"
      ],
      "execution_count": null,
      "outputs": []
    },
    {
      "cell_type": "code",
      "metadata": {
        "colab": {
          "base_uri": "https://localhost:8080/"
        },
        "id": "KZaRrR_VZ5n7",
        "outputId": "f5a43b01-946a-4dbc-82af-64ab57bc6f8c"
      },
      "source": [
        "W"
      ],
      "execution_count": null,
      "outputs": [
        {
          "output_type": "execute_result",
          "data": {
            "text/plain": [
              "array([[8.5226705 ],\n",
              "       [6.99172065]])"
            ]
          },
          "metadata": {
            "tags": []
          },
          "execution_count": 8
        }
      ]
    },
    {
      "cell_type": "markdown",
      "metadata": {
        "id": "nFalPPt6aqyv"
      },
      "source": [
        "SGD"
      ]
    },
    {
      "cell_type": "code",
      "metadata": {
        "id": "2RtR33MeZ69k"
      },
      "source": [
        "n_epochs =50\n",
        "t0 ,t1 =5,50"
      ],
      "execution_count": null,
      "outputs": []
    },
    {
      "cell_type": "code",
      "metadata": {
        "id": "FZ46aBMca4wZ"
      },
      "source": [
        "def learning_schedule (t):\n",
        "  return t0/(t+t1)"
      ],
      "execution_count": null,
      "outputs": []
    },
    {
      "cell_type": "code",
      "metadata": {
        "id": "32cKMwSAbALy"
      },
      "source": [
        "W_SGD=np.random.rand(2,1)"
      ],
      "execution_count": null,
      "outputs": []
    },
    {
      "cell_type": "code",
      "metadata": {
        "id": "TMHdNY8lbSCg"
      },
      "source": [
        "for epoch in range(n_epochs):\n",
        "  for i in range(m):\n",
        "    eta=learning_schedule(epoch*m+i)\n",
        "    instance=np.random.randint(m)\n",
        "    xi=X_[instance:instance+1]\n",
        "    yi=y[instance:instance+1]\n",
        "    gradient=2*xi.T.dot(xi.dot(W_SGD)-yi)\n",
        "    W_SGD-=eta*gradient"
      ],
      "execution_count": null,
      "outputs": []
    },
    {
      "cell_type": "code",
      "metadata": {
        "colab": {
          "base_uri": "https://localhost:8080/"
        },
        "id": "uH3V_HELcOhh",
        "outputId": "13dbf676-2d2b-4bc1-c0a9-0a36cbbbfc4d"
      },
      "source": [
        "W_SGD"
      ],
      "execution_count": null,
      "outputs": [
        {
          "output_type": "execute_result",
          "data": {
            "text/plain": [
              "array([[8.52063444],\n",
              "       [6.99390268]])"
            ]
          },
          "metadata": {
            "tags": []
          },
          "execution_count": 13
        }
      ]
    },
    {
      "cell_type": "code",
      "metadata": {
        "id": "mHpCGmZ1cQ0n"
      },
      "source": [
        "n_epochs =4000\n",
        "t0 ,t1 =10000,100000\n",
        "size = int(m/100)\n",
        "W_MGD=np.random.rand(2,1)\n",
        "t=1\n",
        "for epoch in range(n_epochs):\n",
        "  indices=np.random.permutation(m)\n",
        "  X_shuffled=X_[indices]\n",
        "  y_shuffled=y[indices]\n",
        "  for i in range(0,m,size):\n",
        "    eta=learning_schedule(t)\n",
        "    xi=X_[instance:instance+size]\n",
        "    yi=y[instance:instance+size]\n",
        "    gradient=2/size*xi.T.dot(xi.dot(W_MGD)-yi)\n",
        "    W_MGD-=eta*gradient\n",
        "    t+=1"
      ],
      "execution_count": null,
      "outputs": []
    },
    {
      "cell_type": "code",
      "metadata": {
        "colab": {
          "base_uri": "https://localhost:8080/"
        },
        "id": "uWWmSz3KdSQ7",
        "outputId": "3c9584d8-d170-49b0-c028-9f0e3eb93d66"
      },
      "source": [
        "W_MGD"
      ],
      "execution_count": null,
      "outputs": [
        {
          "output_type": "execute_result",
          "data": {
            "text/plain": [
              "array([[8.44485715],\n",
              "       [6.97890454]])"
            ]
          },
          "metadata": {
            "tags": []
          },
          "execution_count": 15
        }
      ]
    }
  ]
}